{
 "cells": [
  {
   "cell_type": "markdown",
   "id": "766ac5d6",
   "metadata": {},
   "source": [
    "## Importing Libraries"
   ]
  },
  {
   "cell_type": "code",
   "execution_count": 3,
   "id": "7ea48fd3",
   "metadata": {},
   "outputs": [],
   "source": [
    "import numpy as np\n",
    "from tensorflow.keras.datasets import mnist\n",
    "from tensorflow.keras.models import Sequential\n",
    "from tensorflow.keras.layers import Conv2D, MaxPooling2D, Flatten, Dense\n",
    "from tensorflow.keras.utils import to_categorical"
   ]
  },
  {
   "cell_type": "markdown",
   "id": "b00b8507",
   "metadata": {},
   "source": [
    "#### Conv2D - crestes a convolutional kernel that is convolved with the input image to produce a set of output features that is it applies filters to the original image and produces a new set of feature maps that represent the different features of the input image. It is used in CNN fpr image processing like image recognition.\n",
    "#### MaxPooling2D layer- it down samples the image produced by Conv2D layer by taking the maximum value within a small kernel or window which reduces the dimensionality of the input which helps to reduce the number the number of parameter in the model and improve its performance.\n",
    "#### Flatten- this layers flattens the input tensor into a one dimensional Vector, which is useful for when transitioning from convolutional layer to a fully connected layer which requires a 1D input. It is used in neural network for image classification tasks\n",
    "#### Dense- standard fully connected neural network layer where each neuron is connected to all the neurons in the previous layer, used for image classification tasks\n"
   ]
  },
  {
   "cell_type": "markdown",
   "id": "2187e9d4",
   "metadata": {},
   "source": [
    "## Loading the dataset\n",
    "#### MNIST dataset is a part of keras library"
   ]
  },
  {
   "cell_type": "code",
   "execution_count": 4,
   "id": "afe5efce",
   "metadata": {},
   "outputs": [
    {
     "name": "stdout",
     "output_type": "stream",
     "text": [
      "Downloading data from https://storage.googleapis.com/tensorflow/tf-keras-datasets/mnist.npz\n",
      "11490434/11490434 [==============================] - 2s 0us/step\n"
     ]
    }
   ],
   "source": [
    "(X_train, y_train), (X_test, y_test) = mnist.load_data()"
   ]
  },
  {
   "cell_type": "markdown",
   "id": "beb37cff",
   "metadata": {},
   "source": [
    "## Displaying a sample image"
   ]
  },
  {
   "cell_type": "code",
   "execution_count": 5,
   "id": "108a13a2",
   "metadata": {},
   "outputs": [
    {
     "data": {
      "image/png": "[encoded data removed]",
      "text/plain": [
       "<Figure size 640x480 with 1 Axes>"
      ]
     },
     "metadata": {},
     "output_type": "display_data"
    }
   ],
   "source": [
    "import matplotlib.pyplot as plt\n",
    "plt.imshow(X_train[2], cmap='gray')\n",
    "plt.show()"
   ]
  },
  {
   "cell_type": "code",
   "execution_count": 14,
   "id": "c4782827",
   "metadata": {},
   "outputs": [
    {
     "data": {
      "image/png": "[encoded data removed]",
      "text/plain": [
       "<Figure size 640x480 with 10 Axes>"
      ]
     },
     "metadata": {},
     "output_type": "display_data"
    }
   ],
   "source": [
    "for i in range(10):\n",
    "    plt.subplot(2,5,i+1)\n",
    "    plt.imshow(X_train[i], cmap='gray')\n",
    "    plt.axis('off')"
   ]
  },
  {
   "cell_type": "markdown",
   "id": "535f2f79",
   "metadata": {},
   "source": [
    "## Data Preprocessing\n",
    "### Feature Engineering\n",
    "#### 1.Normalization- is scaling the pixel values of image to have a 0 mean and standard deviation of 1.It helps to improve the functionality of the model like training\n",
    "#### 2. Reshape the dataset-CNN requires the input data to be 4D( batch_size{no. of training examples that are processed in one forward/backward pass}, height, width, channels{the no. of channelsin each input image like 1 for grayscale, 3 for rgb})\n",
    "#### 3.One Hot Encoding"
   ]
  },
  {
   "cell_type": "code",
   "execution_count": 10,
   "id": "75f186f0",
   "metadata": {},
   "outputs": [],
   "source": [
    "#Normalization\n",
    "X_train = X_train.astype('float32')/255\n",
    "X_test = X_test.astype('float32')/255\n"
   ]
  },
  {
   "cell_type": "markdown",
   "id": "d2b80272",
   "metadata": {},
   "source": [
    "### Rescaling advantages\n",
    "###### Improve the performance of the model, puts all the values on the same scale(which can help the model converge faster during the training and prevent numerical instability), also ensures all the features have roughly the same scale"
   ]
  },
  {
   "cell_type": "code",
   "execution_count": 11,
   "id": "f8f0bc7e",
   "metadata": {},
   "outputs": [],
   "source": [
    "#Reshaping the data\n",
    "X_train = np.expand_dims(X_train, axis=-1)\n",
    "X_test = np.expand_dims(X_test, axis=-1)"
   ]
  },
  {
   "cell_type": "code",
   "execution_count": 17,
   "id": "4188dcca",
   "metadata": {},
   "outputs": [],
   "source": [
    "#one-hot encoded vectors\n",
    "y_train = to_categorical(y_train)\n",
    "y_test = to_categorical(y_test)"
   ]
  },
  {
   "cell_type": "code",
   "execution_count": 18,
   "id": "bb101096",
   "metadata": {},
   "outputs": [],
   "source": [
    "#Model architecture\n",
    "model = Sequential()\n",
    "model.add(Conv2D(32, (3, 3), activation='relu', input_shape = X_train.shape[1:]))\n",
    "model.add(MaxPooling2D((2, 2)))\n",
    "model.add(Conv2D(64, (3, 3), activation='relu'))\n",
    "model.add(MaxPooling2D((2, 2)))\n",
    "model.add(Flatten())\n",
    "model.add(Dense(10, activation='softmax'))\n"
   ]
  },
  {
   "cell_type": "code",
   "execution_count": 20,
   "id": "4e1247c0",
   "metadata": {},
   "outputs": [],
   "source": [
    "#Compile model\n",
    "model.compile(optimizer='adam', loss='categorical_crossentropy', metrics=['accuracy'])"
   ]
  },
  {
   "cell_type": "code",
   "execution_count": 22,
   "id": "4e47b1fb",
   "metadata": {},
   "outputs": [
    {
     "name": "stdout",
     "output_type": "stream",
     "text": [
      "Epoch 1/10\n",
      "469/469 [==============================] - 20s 42ms/step - loss: 0.2742 - accuracy: 0.9223 - val_loss: 0.0727 - val_accuracy: 0.9770\n",
      "Epoch 2/10\n",
      "469/469 [==============================] - 22s 47ms/step - loss: 0.0724 - accuracy: 0.9778 - val_loss: 0.0515 - val_accuracy: 0.9818\n",
      "Epoch 3/10\n",
      "469/469 [==============================] - 27s 58ms/step - loss: 0.0533 - accuracy: 0.9839 - val_loss: 0.0401 - val_accuracy: 0.9869\n",
      "Epoch 4/10\n",
      "469/469 [==============================] - 24s 51ms/step - loss: 0.0440 - accuracy: 0.9870 - val_loss: 0.0371 - val_accuracy: 0.9873\n",
      "Epoch 5/10\n",
      "469/469 [==============================] - 24s 51ms/step - loss: 0.0376 - accuracy: 0.9884 - val_loss: 0.0350 - val_accuracy: 0.9889\n",
      "Epoch 6/10\n",
      "469/469 [==============================] - 24s 50ms/step - loss: 0.0318 - accuracy: 0.9902 - val_loss: 0.0353 - val_accuracy: 0.9892\n",
      "Epoch 7/10\n",
      "469/469 [==============================] - 24s 50ms/step - loss: 0.0275 - accuracy: 0.9914 - val_loss: 0.0388 - val_accuracy: 0.9884\n",
      "Epoch 8/10\n",
      "469/469 [==============================] - 25s 53ms/step - loss: 0.0233 - accuracy: 0.9926 - val_loss: 0.0334 - val_accuracy: 0.9883\n",
      "Epoch 9/10\n",
      "469/469 [==============================] - 28s 59ms/step - loss: 0.0203 - accuracy: 0.9935 - val_loss: 0.0334 - val_accuracy: 0.9894\n",
      "Epoch 10/10\n",
      "469/469 [==============================] - 25s 54ms/step - loss: 0.0177 - accuracy: 0.9946 - val_loss: 0.0374 - val_accuracy: 0.9885\n"
     ]
    },
    {
     "data": {
      "text/plain": [
       "<keras.src.callbacks.History at 0x176ae6ce2c0>"
      ]
     },
     "execution_count": 22,
     "metadata": {},
     "output_type": "execute_result"
    }
   ],
   "source": [
    "#Train model on training data\n",
    "model.fit(X_train, y_train, batch_size = 128, epochs = 10, validation_data=(X_test, y_test))"
   ]
  },
  {
   "cell_type": "markdown",
   "id": "64944f67",
   "metadata": {},
   "source": [
    "## Model accuracy"
   ]
  },
  {
   "cell_type": "code",
   "execution_count": 23,
   "id": "f6224583",
   "metadata": {},
   "outputs": [
    {
     "name": "stdout",
     "output_type": "stream",
     "text": [
      "Test accuracy: 0.9884999990463257\n"
     ]
    }
   ],
   "source": [
    "#Evaluate the model on thetest set\n",
    "test_loss, test_acc = model.evaluate(X_test, y_test, verbose = 0)\n",
    "print('Test accuracy:',test_acc)"
   ]
  },
  {
   "cell_type": "code",
   "execution_count": null,
   "id": "c96563cc",
   "metadata": {},
   "outputs": [],
   "source": []
  }
 ],
 "metadata": {
  "kernelspec": {
   "display_name": "Python 3 (ipykernel)",
   "language": "python",
   "name": "python3"
  },
  "language_info": {
   "codemirror_mode": {
    "name": "ipython",
    "version": 3
   },
   "file_extension": ".py",
   "mimetype": "text/x-python",
   "name": "python",
   "nbconvert_exporter": "python",
   "pygments_lexer": "ipython3",
   "version": "3.10.9"
  }
 },
 "nbformat": 4,
 "nbformat_minor": 5
}
